{
 "cells": [
  {
   "cell_type": "code",
   "execution_count": 4,
   "metadata": {},
   "outputs": [],
   "source": [
    "import warnings\n",
    "warnings.simplefilter(\"ignore\")"
   ]
  },
  {
   "cell_type": "code",
   "execution_count": 5,
   "metadata": {},
   "outputs": [],
   "source": [
    "# Lab 9 XOR\n",
    "import tensorflow as tf\n",
    "import numpy as np"
   ]
  },
  {
   "cell_type": "code",
   "execution_count": 19,
   "metadata": {},
   "outputs": [],
   "source": [
    "tf.set_random_seed(777)  # for reproducibility\n",
    "\n",
    "x_data = np.array([[0, 0], [0, 1], [1, 0], [1, 1]], dtype=np.float32)\n",
    "y_data = np.array([[0], [1], [1], [0]], dtype=np.float32)"
   ]
  },
  {
   "cell_type": "code",
   "execution_count": 20,
   "metadata": {},
   "outputs": [],
   "source": [
    "X = tf.placeholder(tf.float32, [None, 2])\n",
    "Y = tf.placeholder(tf.float32, [None, 1])\n",
    "\n",
    "W = tf.Variable(tf.random_normal([2, 2]), name=\"weight\")\n",
    "b = tf.Variable(tf.random_normal([2]), name=\"bias\")"
   ]
  },
  {
   "cell_type": "code",
   "execution_count": 26,
   "metadata": {},
   "outputs": [],
   "source": [
    "# Hypothesis using sigmoid: tf.div(1., 1. + tf.exp(tf.matmul(X, W)))\n",
    "layer1 = tf.sigmoid(tf.matmul(X,W) + b)\n",
    "\n",
    "W2 = tf.Variable(tf.random_normal([2,1]), name=\"w2\")\n",
    "b2 = tf.Variable(tf.random_normal([1]), name=\"bias2\")\n",
    "hypothesis = tf.sigmoid(tf.matmul(layer1, W2) + b2)\n",
    "\n",
    "# cost/loss function\n",
    "cost = tf.square(hypothesis - Y)\n",
    "train = tf.train.GradientDescentOptimizer(learning_rate=0.1).minimize(cost)"
   ]
  },
  {
   "cell_type": "code",
   "execution_count": 27,
   "metadata": {},
   "outputs": [],
   "source": [
    "# Accuracy computation\n",
    "# True if hypothesis>0.5 else False\n",
    "predicted = tf.cast(hypothesis > 0.5, dtype=tf.float32)\n",
    "accuracy = tf.reduce_mean(tf.cast(tf.equal(predicted, Y), dtype=tf.float32))"
   ]
  },
  {
   "cell_type": "code",
   "execution_count": 28,
   "metadata": {},
   "outputs": [
    {
     "name": "stdout",
     "output_type": "stream",
     "text": [
      "0 [[0.18469036]\n",
      " [0.35836083]\n",
      " [0.24651523]\n",
      " [0.2342908 ]] [[-1.7620492   0.4431365 ]\n",
      " [ 0.50665265 -0.3160051 ]]\n",
      "3000 [[0.16341218]\n",
      " [0.05326263]\n",
      " [0.40955368]\n",
      " [0.15777522]] [[-3.5597796   1.086323  ]\n",
      " [ 2.8368952   0.63111186]]\n",
      "6000 [[0.00602213]\n",
      " [0.00362542]\n",
      " [0.00517306]\n",
      " [0.00451524]] [[-6.084507   4.212947 ]\n",
      " [ 5.683955  -4.3736534]]\n",
      "9000 [[0.00194337]\n",
      " [0.00131311]\n",
      " [0.00153563]\n",
      " [0.00149014]] [[-6.323338   4.796224 ]\n",
      " [ 6.031877  -4.9748077]]\n",
      "12000 [[0.00113179]\n",
      " [0.00078767]\n",
      " [0.00087497]\n",
      " [0.00087777]] [[-6.4453554  5.0439353]\n",
      " [ 6.182546  -5.2267423]]\n",
      "15000 [[0.00079237]\n",
      " [0.00055926]\n",
      " [0.00060622]\n",
      " [0.00061875]] [[-6.52726    5.1985183]\n",
      " [ 6.278082  -5.383373 ]]\n",
      "18000 [[0.00060739]\n",
      " [0.0004323 ]\n",
      " [0.00046183]\n",
      " [0.00047655]] [[-6.5887785  5.309743 ]\n",
      " [ 6.3477116 -5.4958754]]\n",
      "21000 [[0.00049142]\n",
      " [0.00035174]\n",
      " [0.00037214]\n",
      " [0.00038693]] [[-6.6379647  5.396072 ]\n",
      " [ 6.4023123 -5.583111 ]]\n",
      "24000 [[0.00041211]\n",
      " [0.00029618]\n",
      " [0.00031114]\n",
      " [0.00032539]] [[-6.678903   5.4663343]\n",
      " [ 6.4471407 -5.654047 ]]\n",
      "27000 [[0.00035453]\n",
      " [0.00025557]\n",
      " [0.00026708]\n",
      " [0.00028057]] [[-6.7139044  5.5254035]\n",
      " [ 6.4851217 -5.713695 ]]\n",
      "30000 [[0.00031086]\n",
      " [0.00022466]\n",
      " [0.00023381]\n",
      " [0.00024648]] [[-6.7444634  5.5762463]\n",
      " [ 6.51804   -5.7650056]]\n",
      "\n",
      "Hypothesis:  [[0.01763083]\n",
      " [0.9850117 ]\n",
      " [0.98470956]\n",
      " [0.01569933]] \n",
      "Correct:  [[0.]\n",
      " [1.]\n",
      " [1.]\n",
      " [0.]] \n",
      "Accuracy:  1.0\n",
      "expected Y [array([[0.01763083],\n",
      "       [0.9850117 ],\n",
      "       [0.98470956],\n",
      "       [0.01569933]], dtype=float32), array([[-6.7444634,  5.5762463],\n",
      "       [ 6.51804  , -5.7650056]], dtype=float32)]\n"
     ]
    },
    {
     "data": {
      "text/plain": [
       "'\\nHypothesis:  [[ 0.5]\\n [ 0.5]\\n [ 0.5]\\n [ 0.5]]\\nCorrect:  [[ 0.]\\n [ 0.]\\n [ 0.]\\n [ 0.]]\\nAccuracy:  0.5\\n'"
      ]
     },
     "execution_count": 28,
     "metadata": {},
     "output_type": "execute_result"
    }
   ],
   "source": [
    "# Launch graph\n",
    "with tf.Session() as sess:\n",
    "    # Initialize TensorFlow variables\n",
    "    sess.run(tf.global_variables_initializer())\n",
    "\n",
    "    for step in range(30001):\n",
    "        _, cost_val, w_val = sess.run(\n",
    "                  [train, cost, W], feed_dict={X: x_data, Y: y_data}\n",
    "        )\n",
    "        if step % 3000 == 0:\n",
    "            print(step, cost_val, w_val)\n",
    "\n",
    "    # Accuracy report\n",
    "    h, c, a = sess.run(\n",
    "              [hypothesis, predicted, accuracy], feed_dict={X: x_data, Y: y_data}\n",
    "    )\n",
    "    print(\"\\nHypothesis: \", h, \"\\nCorrect: \", c, \"\\nAccuracy: \", a)\n",
    "\n",
    "    expected_y = sess.run([hypothesis, W], feed_dict={X:x_data})\n",
    "    print(\"expected Y\", expected_y)\n",
    "'''\n",
    "Hypothesis:  [[ 0.5]\n",
    " [ 0.5]\n",
    " [ 0.5]\n",
    " [ 0.5]]\n",
    "Correct:  [[ 0.]\n",
    " [ 0.]\n",
    " [ 0.]\n",
    " [ 0.]]\n",
    "Accuracy:  0.5\n",
    "'''"
   ]
  },
  {
   "cell_type": "code",
   "execution_count": 18,
   "metadata": {},
   "outputs": [
    {
     "name": "stdout",
     "output_type": "stream",
     "text": [
      "hello~~~2\n"
     ]
    }
   ],
   "source": [
    "print(\"hello~~~2\")"
   ]
  },
  {
   "cell_type": "code",
   "execution_count": null,
   "metadata": {},
   "outputs": [],
   "source": []
  }
 ],
 "metadata": {
  "kernelspec": {
   "display_name": "Python 3",
   "language": "python",
   "name": "python3"
  },
  "language_info": {
   "codemirror_mode": {
    "name": "ipython",
    "version": 3
   },
   "file_extension": ".py",
   "mimetype": "text/x-python",
   "name": "python",
   "nbconvert_exporter": "python",
   "pygments_lexer": "ipython3",
   "version": "3.7.3"
  }
 },
 "nbformat": 4,
 "nbformat_minor": 2
}
