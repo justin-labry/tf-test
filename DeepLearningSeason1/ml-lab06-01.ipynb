{
 "cells": [
  {
   "cell_type": "code",
   "execution_count": null,
   "metadata": {},
   "outputs": [],
   "source": []
  },
  {
   "cell_type": "code",
   "execution_count": 69,
   "metadata": {},
   "outputs": [],
   "source": [
    "# Lab 6 Softmax Classifier\n",
    "import tensorflow as tf\n",
    "tf.set_random_seed(777)  # for reproducibility"
   ]
  },
  {
   "cell_type": "code",
   "execution_count": 70,
   "metadata": {},
   "outputs": [],
   "source": [
    "x_data = [[1, 2, 1, 1],\n",
    "          [2, 1, 3, 2],\n",
    "          [3, 1, 3, 4],\n",
    "          [4, 1, 5, 5],\n",
    "          [1, 7, 5, 5],\n",
    "          [1, 2, 5, 6],\n",
    "          [1, 6, 6, 6],\n",
    "          [1, 7, 7, 7]]\n",
    "y_data = [[0, 0, 1],\n",
    "          [0, 0, 1],\n",
    "          [0, 0, 1],\n",
    "          [0, 1, 0],\n",
    "          [0, 1, 0],\n",
    "          [0, 1, 0],\n",
    "          [1, 0, 0],\n",
    "          [1, 0, 0]]"
   ]
  },
  {
   "cell_type": "code",
   "execution_count": 71,
   "metadata": {},
   "outputs": [],
   "source": [
    "X = tf.placeholder(\"float\", [None, 4])\n",
    "Y = tf.placeholder(\"float\", [None, 3])\n",
    "nb_classes = 3"
   ]
  },
  {
   "cell_type": "code",
   "execution_count": 72,
   "metadata": {},
   "outputs": [],
   "source": [
    "W = tf.Variable(tf.random_normal([4, nb_classes]), name='weight')\n",
    "b = tf.Variable(tf.random_normal([nb_classes]), name='bias')\n",
    "\n",
    "# tf.nn.softmax computes softmax activations\n",
    "# softmax = exp(logits) / reduce_sum(exp(logits), dim)\n",
    "hypothesis = tf.nn.softmax(tf.matmul(X, W) + b)\n",
    "\n",
    "# Cross entropy cost/loss\n",
    "cost = tf.reduce_mean(-tf.reduce_sum(Y * tf.log(hypothesis), axis=1))\n",
    "\n",
    "optimizer = tf.train.GradientDescentOptimizer(learning_rate=0.1).minimize(cost)"
   ]
  },
  {
   "cell_type": "code",
   "execution_count": 114,
   "metadata": {},
   "outputs": [
    {
     "name": "stdout",
     "output_type": "stream",
     "text": [
      "0 1.9859184\n",
      "200 0.6409301\n",
      "400 0.5321119\n",
      "600 0.44050005\n",
      "800 0.3518561\n",
      "1000 0.26502782\n",
      "1200 0.2235246\n",
      "1400 0.20381722\n",
      "1600 0.18718557\n",
      "1800 0.17296946\n",
      "2000 0.16068676\n",
      "--------------\n",
      "  +1.000000000000000000000000000000  +0.000000000000000192172002806638  +0.000000000000000000000000000007\n",
      "1: [[1.000000e+00 1.921720e-16 7.427547e-30]] [0]\n",
      "--------------\n",
      "[[0.60388947 0.32739145 0.06871902]] [0]\n",
      "--------------\n",
      "[[1.48857895e-08 3.71042144e-04 9.99628901e-01]] [2]\n",
      "--------------\n",
      "[[4.45100702e-02 9.55478489e-01 1.14537124e-05]\n",
      " [6.03889287e-01 3.27391684e-01 6.87190667e-02]\n",
      " [1.48857895e-08 3.71042144e-04 9.99628901e-01]] [1 0 2]\n"
     ]
    }
   ],
   "source": [
    "# Launch graph\n",
    "with tf.Session() as sess:\n",
    "    sess.run(tf.global_variables_initializer())\n",
    "\n",
    "    for step in range(2001):\n",
    "            _, cost_val = sess.run([optimizer, cost], feed_dict={X: x_data, Y: y_data})\n",
    "\n",
    "            if step % 200 == 0:\n",
    "                print(step, cost_val)\n",
    "\n",
    "    print('--------------')\n",
    "    # Testing & One-hot encoding\n",
    "    a = sess.run(hypothesis, feed_dict={X: [[1, 11, 17, 9]]})\n",
    "  \n",
    "  \n",
    "    for i in np.nditer(a): \n",
    "        print(\"{:+35.30f}\".format(i), end=\"\")\n",
    "    print(\"\")\n",
    "    \n",
    "    print(\"1:\", a, sess.run(tf.argmax(a, 1)))\n",
    "\n",
    "    print('--------------')\n",
    "    b = sess.run(hypothesis, feed_dict={X: [[1, 3, 4, 3]]})\n",
    "    print(b, sess.run(tf.argmax(b, 1)))\n",
    "\n",
    "    print('--------------')\n",
    "    c = sess.run(hypothesis, feed_dict={X: [[1, 1, 0, 1]]})\n",
    "    print(c, sess.run(tf.argmax(c, 1)))\n",
    "\n",
    "    print('--------------')\n",
    "    all = sess.run(hypothesis, feed_dict={X: [[1, 11, 7, 9], [1, 3, 4, 3], [1, 1, 0, 1]]})\n",
    "    print(all, sess.run(tf.argmax(all, 1)))"
   ]
  },
  {
   "cell_type": "code",
   "execution_count": 11,
   "metadata": {},
   "outputs": [
    {
     "data": {
      "text/plain": [
       "'\\n0 6.926112\\n200 0.6005015\\n400 0.47295815\\n600 0.37342924\\n800 0.28018373\\n1000 0.23280522\\n1200 0.21065344\\n1400 0.19229904\\n1600 0.17682323\\n1800 0.16359556\\n2000 0.15216158\\n-------------\\n[[1.3890490e-03 9.9860185e-01 9.0613084e-06]] [1]\\n-------------\\n[[0.9311919  0.06290216 0.00590591]] [0]\\n-------------\\n[[1.2732815e-08 3.3411323e-04 9.9966586e-01]] [2]\\n-------------\\n[[1.3890490e-03 9.9860185e-01 9.0613084e-06]\\n [9.3119192e-01 6.2902197e-02 5.9059085e-03]\\n [1.2732815e-08 3.3411323e-04 9.9966586e-01]] [1 0 2]\\n'"
      ]
     },
     "execution_count": 11,
     "metadata": {},
     "output_type": "execute_result"
    }
   ],
   "source": [
    "'''\n",
    "0 6.926112\n",
    "200 0.6005015\n",
    "400 0.47295815\n",
    "600 0.37342924\n",
    "800 0.28018373\n",
    "1000 0.23280522\n",
    "1200 0.21065344\n",
    "1400 0.19229904\n",
    "1600 0.17682323\n",
    "1800 0.16359556\n",
    "2000 0.15216158\n",
    "-------------\n",
    "[[1.3890490e-03 9.9860185e-01 9.0613084e-06]] [1]\n",
    "-------------\n",
    "[[0.9311919  0.06290216 0.00590591]] [0]\n",
    "-------------\n",
    "[[1.2732815e-08 3.3411323e-04 9.9966586e-01]] [2]\n",
    "-------------\n",
    "[[1.3890490e-03 9.9860185e-01 9.0613084e-06]\n",
    " [9.3119192e-01 6.2902197e-02 5.9059085e-03]\n",
    " [1.2732815e-08 3.3411323e-04 9.9966586e-01]] [1 0 2]\n",
    "'''"
   ]
  },
  {
   "cell_type": "code",
   "execution_count": 115,
   "metadata": {},
   "outputs": [
    {
     "name": "stdout",
     "output_type": "stream",
     "text": [
      "2\n"
     ]
    }
   ],
   "source": [
    "import numpy as np\n",
    "a = [0.1, 0.2, 0.3]\n",
    "a = np.asarray(a)\n",
    "onehot = np.argmax(a)\n",
    "print(onehot)"
   ]
  },
  {
   "cell_type": "code",
   "execution_count": 117,
   "metadata": {},
   "outputs": [
    {
     "data": {
      "text/plain": [
       "<tf.Tensor 'one_hot_7:0' shape=(1, 6, 6) dtype=float32>"
      ]
     },
     "execution_count": 117,
     "metadata": {},
     "output_type": "execute_result"
    }
   ],
   "source": [
    "predictions = np.array([[2, 1, 3, 4, 0, 0]])\n",
    "Y = tf.one_hot(predictions, depth=6, dtype=tf.float32)\n",
    "Y"
   ]
  },
  {
   "cell_type": "code",
   "execution_count": null,
   "metadata": {},
   "outputs": [],
   "source": []
  }
 ],
 "metadata": {
  "kernelspec": {
   "display_name": "Python 3",
   "language": "python",
   "name": "python3"
  },
  "language_info": {
   "codemirror_mode": {
    "name": "ipython",
    "version": 3
   },
   "file_extension": ".py",
   "mimetype": "text/x-python",
   "name": "python",
   "nbconvert_exporter": "python",
   "pygments_lexer": "ipython3",
   "version": "3.7.3"
  }
 },
 "nbformat": 4,
 "nbformat_minor": 2
}
